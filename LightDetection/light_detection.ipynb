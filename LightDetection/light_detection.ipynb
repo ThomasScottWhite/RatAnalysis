{
 "cells": [
  {
   "cell_type": "code",
   "execution_count": 32,
   "metadata": {},
   "outputs": [],
   "source": [
    "import cv2\n",
    "import tkinter as tk\n",
    "from tkinter import filedialog\n",
    "import numpy as np\n",
    "import pandas as pd\n",
    "\n",
    "# Select File\n",
    "root = tk.Tk()\n",
    "root.withdraw()\n",
    "\n",
    "video_path = filedialog.askopenfilename(title=\"Select Video File\", \n",
    "                                        filetypes=((\"AVI files\", \"*.avi\"), (\"All files\", \"*.*\")))\n",
    "\n"
   ]
  },
  {
   "cell_type": "code",
   "execution_count": 33,
   "metadata": {},
   "outputs": [],
   "source": [
    "# Get a single frame\n",
    "cap = cv2.VideoCapture(video_path)\n",
    "sucess,frame = cap.read()\n",
    "cap.release()"
   ]
  },
  {
   "cell_type": "code",
   "execution_count": 34,
   "metadata": {},
   "outputs": [
    {
     "name": "stdout",
     "output_type": "stream",
     "text": [
      "Point selected: (192, 139)\n"
     ]
    }
   ],
   "source": [
    "# Select points\n",
    "selected_point = None\n",
    "\n",
    "def select_point(event, x, y, flags, param):\n",
    "    global selected_point\n",
    "    if event == cv2.EVENT_LBUTTONDOWN:\n",
    "        selected_point = (x, y)\n",
    "        print(f\"Point selected: {selected_point}\")\n",
    "\n",
    "image = frame #cv2.imread('frame.jpg')\n",
    "\n",
    "cv2.namedWindow('Select Point')\n",
    "cv2.setMouseCallback('Select Point', select_point)\n",
    "\n",
    "while True:\n",
    "    cv2.imshow('Select Point', image)\n",
    "    key = cv2.waitKey(1) & 0xFF\n",
    "    if key == ord('q') or selected_point is not None: \n",
    "        break\n",
    "\n",
    "cv2.destroyAllWindows()\n"
   ]
  },
  {
   "cell_type": "code",
   "execution_count": 35,
   "metadata": {},
   "outputs": [
    {
     "name": "stdout",
     "output_type": "stream",
     "text": [
      "The light is OFF.\n"
     ]
    }
   ],
   "source": [
    "# Determine if the light is on\n",
    "light_on_rgb = np.array([255, 243, 197])\n",
    "light_off_rgb = np.array([250, 160, 135])\n",
    "\n",
    "def is_light_on(selected_point,frame):\n",
    "    x, y = selected_point\n",
    "    pixel_rgb = frame[y, x]\n",
    "    pixel_rgb = pixel_rgb[::-1]\n",
    "    # Calculate the Euclidean distance to both the \"on\" and \"off\" reference colors\n",
    "    dist_to_on = np.linalg.norm(pixel_rgb - light_on_rgb)\n",
    "    dist_to_off = np.linalg.norm(pixel_rgb - light_off_rgb)\n",
    "\n",
    "    # Return True if the light is closer to \"on\" color, otherwise False\n",
    "    if dist_to_on < dist_to_off:\n",
    "        return True\n",
    "    else:\n",
    "        return False  \n",
    "    \n",
    "\n",
    "if is_light_on(selected_point,frame):\n",
    "    print(\"The light is ON.\")\n",
    "else:\n",
    "    print(\"The light is OFF.\")\n"
   ]
  },
  {
   "cell_type": "code",
   "execution_count": 36,
   "metadata": {},
   "outputs": [],
   "source": [
    "# Create dataframe\n",
    "data = []\n",
    "\n",
    "cap = cv2.VideoCapture(video_path)\n",
    "success, frame = cap.read()\n",
    "\n",
    "while success:\n",
    "    light_status = is_light_on(selected_point,frame)\n",
    "    data.append({\"Light On\": light_status})\n",
    "    success, frame = cap.read()\n",
    "cap.release()\n",
    "df = pd.DataFrame(data)\n",
    "\n",
    "df.to_csv(video_path[:-4] + \".csv\")"
   ]
  }
 ],
 "metadata": {
  "kernelspec": {
   "display_name": "base",
   "language": "python",
   "name": "python3"
  },
  "language_info": {
   "codemirror_mode": {
    "name": "ipython",
    "version": 3
   },
   "file_extension": ".py",
   "mimetype": "text/x-python",
   "name": "python",
   "nbconvert_exporter": "python",
   "pygments_lexer": "ipython3",
   "version": "3.12.5"
  }
 },
 "nbformat": 4,
 "nbformat_minor": 2
}
